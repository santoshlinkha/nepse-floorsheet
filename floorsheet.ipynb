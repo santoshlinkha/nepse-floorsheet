{
 "cells": [
  {
   "cell_type": "code",
   "execution_count": 366,
   "id": "95318c96",
   "metadata": {},
   "outputs": [],
   "source": [
    "from datetime import datetime\n",
    "\n",
    "floorsheet_url  = \"http://www.nepalstock.com/main/floorsheet/index/page/?contract-no=&stock-symbol=&buyer=&seller=&_limit=20000\"\n",
    "floorsheet_columns = [\"Contact No\", \"Stock Symbol\", \"Buyer Broker\", \"Seller Broker\", \"Quantity\", \"Rate\", \"Amount\"] \n",
    "df = pd.DataFrame(columns = floorsheet_columns)\n",
    "pages = 3\n",
    "\n",
    "for i in range(pages):\n",
    "    url = floorsheet_url.replace(\"page\", str(i+1))\n",
    "    data = pd.read_html(url)[0]\n",
    "    data = data.iloc[2:-3, 1:-2]    \n",
    "    data.columns = floorsheet_columns\n",
    "    df = df.append(data)    \n",
    "df.set_index(\"Contact No\")\n",
    "\n",
    "data = df.copy()\n",
    "data = data.apply(lambda row: pd.Series([int(row[\"Contact No\"]), row[\"Stock Symbol\"], \n",
    "                        row[\"Buyer Broker\"], row[\"Seller Broker\"],\n",
    "                        int(row[\"Quantity\"]), float(row[\"Rate\"]),\n",
    "                        float(row[\"Amount\"])\n",
    "                       ]), axis = 1)\n",
    "data.columns = floorsheet_columns\n",
    "data.set_index(\"Contact No\")\n",
    "\n",
    "pd.set_option('display.float_format', lambda x: '%.1f' % x)\n",
    "trade_data  = data.copy()\n",
    "trade_data.pop(\"Contact No\")\n",
    "trade_data.pop(\"Rate\")\n",
    "\n",
    "buy_stat = trade_data.groupby([\"Buyer Broker\", \"Stock Symbol\"]).sum()\n",
    "sell_stat = trade_data.groupby([\"Seller Broker\", \"Stock Symbol\"]).sum()\n",
    "\n",
    "buy_stat.index.names = [\"Broker\", \"Stock Symbol\"]\n",
    "sell_stat.index.names = [\"Broker\", \"Stock Symbol\"]\n",
    "trade_stat = buy_stat.sub(sell_stat, fill_value = 0)\n",
    "trade_stat[\"Average Rate\"] = trade_stat[\"Amount\"]/trade_stat[\"Quantity\"]\n",
    "trade_stat.to_csv(datetime.today().strftime('%Y-%m-%d') + \".csv\")"
   ]
  }
 ],
 "metadata": {
  "kernelspec": {
   "display_name": "Python 3 (ipykernel)",
   "language": "python",
   "name": "python3"
  },
  "language_info": {
   "codemirror_mode": {
    "name": "ipython",
    "version": 3
   },
   "file_extension": ".py",
   "mimetype": "text/x-python",
   "name": "python",
   "nbconvert_exporter": "python",
   "pygments_lexer": "ipython3",
   "version": "3.8.10"
  }
 },
 "nbformat": 4,
 "nbformat_minor": 5
}
